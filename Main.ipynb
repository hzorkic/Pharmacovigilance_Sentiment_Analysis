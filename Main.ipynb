{
 "cells": [
  {
   "cell_type": "markdown",
   "id": "1c86f5fe",
   "metadata": {},
   "source": [
    "# Scrape Drug Reviews from Drugs.com"
   ]
  },
  {
   "cell_type": "code",
   "execution_count": 3,
   "id": "bce0fac6",
   "metadata": {},
   "outputs": [],
   "source": [
    "import requests\n",
    "from bs4 import BeautifulSoup as bs\n",
    "import re\n",
    "import pandas as pd"
   ]
  },
  {
   "cell_type": "markdown",
   "id": "13d143ad",
   "metadata": {},
   "source": [
    "## Scrape drug reviews from Drugs.com"
   ]
  },
  {
   "cell_type": "markdown",
   "id": "efe11b53",
   "metadata": {},
   "source": [
    "We create a dataframe with the following format:\n",
    "\n",
    "#### | drug name | review | rating |"
   ]
  },
  {
   "cell_type": "code",
   "execution_count": 4,
   "id": "34146d2e",
   "metadata": {},
   "outputs": [],
   "source": [
    "def main():\n",
    "    # 1. Get data from the \"contraceptives\" page on drugs.com\n",
    "    url = \"https://www.drugs.com/drug-class/contraceptives.html\"\n",
    "    r, webpage = get_webpage(url)\n",
    "\n",
    "    # 2. Get table with drug names, reviews, etc.\n",
    "    table_body = webpage.find(\"table\", {\"class\":\"ddc-table-sortable\"})\n",
    "    # create an empty dataframe\n",
    "    drug_data = pd.DataFrame(columns=['date', 'sentiment', 'review'])\n",
    "    \n",
    "    # loop through the table with drug names\n",
    "    for row in table_body.find_all(\"tr\")[1:-1]:\n",
    "        # get the drug name\n",
    "        drug_name = row.td.a.b.string\n",
    "        \n",
    "    \n",
    "        # get the number of reviews\n",
    "        if row.find(\"a\", {\"class\":\"ddc-text-nowrap\"}):\n",
    "            # grab the number and convert the string into an integer\n",
    "            drug_reviews = row.find(\"a\", {\"class\":\"ddc-text-nowrap\"}).string.split(' ')[0]\n",
    "            drug_reviews = int(drug_reviews.replace(',', ''))\n",
    "        \n",
    "            url_ = \"https://www.drugs.com\" + str(row.find(\"a\", {\"class\":\"ddc-text-nowrap\"}, href=True)['href'])\n",
    "            # if there are more than 100 reviews, we add it to the dataframe\n",
    "            if drug_reviews >= 100:\n",
    "                # get the reviews, dates, and sentiments of all drug reviews posted after 2021\n",
    "                reviews = get_reviews(url_, drug_name, drug_reviews, '2021')\n",
    "            \n",
    "    return reviews "
   ]
  },
  {
   "cell_type": "code",
   "execution_count": null,
   "id": "00122ce6",
   "metadata": {},
   "outputs": [],
   "source": [
    "def get_webpage(link):\n",
    "    '''Get the contents of a webpage.\n",
    "    Input: \n",
    "        link = Link to the desired webpage\n",
    "    Output: Beautiufl Soup Object containing the HTML data\n",
    "    '''\n",
    "    # load the webpage content \n",
    "    r = requests.get(link)\n",
    "    # convert to a beautiful soup object \n",
    "    webpage = bs(r.content)\n",
    "    return r, webpage\n",
    "\n",
    "\n",
    "def get_reviews(url_, drug_name, drug_reviews, date_cutoff=False):\n",
    "    '''Get all of the reviews of a specific drug\n",
    "    Input: \n",
    "        drug_name = name of the drug\n",
    "        drug_reviews = number of reviews\n",
    "        date_cutoff = Do you want to limit the date of reviews collected?\n",
    "    Output: A list containing a list for each review: [str('Review goes here'), int(rating)]\n",
    "    '''\n",
    "    #------------------------#\n",
    "    # 1. initalize variables #\n",
    "    #------------------------#\n",
    "    reviews, isHaveNextPage, page = [], True, 0\n",
    "    \n",
    "    #---------------------------------------------------------#\n",
    "    # 2. \"clicking\" the \"#### Reviews\" hyperlink in the table #\n",
    "    #---------------------------------------------------------#\n",
    "    review_page_url = url_\n",
    "    \n",
    "    #---------------------------------------#\n",
    "    # 3. cycle through each page of reviews #\n",
    "    #---------------------------------------#\n",
    "    while isHaveNextPage: \n",
    "        \n",
    "        # access the page and sort the reviews by most recent reviews\n",
    "        r_, review_page_content = get_webpage(review_page_url + f\"?sort_reviews=most_recent&page={page}\")\n",
    "        \n",
    "        # TO-DO: There is an issue here with grabbing reviews after page 5\n",
    "        list_of_review_boxes = review_page_content.find_all(\"div\", {\"class\":\"ddc-comment ddc-box ddc-mgb-2\"})\n",
    "        \n",
    "        # grab the date, review paragraph, and rating\n",
    "        for review in list_of_review_boxes:\n",
    "            # 1. find the date, if it is at the cutoff year, ignore\n",
    "            head = review.find(\"div\", {\"class\":\"ddc-comment-header\"})\n",
    "            date = head.find(\"span\", string=re.compile(\", \")).string\n",
    "            if date.endswith(date_cutoff):\n",
    "                return reviews\n",
    "            \n",
    "            # 3. get the review paragraph\n",
    "            if review.p.b:\n",
    "                review_paragraph = str(review.p.b.next_sibling).strip()[1:-1]\n",
    "            else:\n",
    "                review_paragraph = str(review.p).strip()[1:-1]\n",
    "            \n",
    "            # 2. find the review rating, if it exists, if not, ignore\n",
    "            sentiment = None\n",
    "            if review.find(\"div\", {\"class\":\"ddc-rating-summary\"}):\n",
    "                rating = int(review.find(\"div\", {\"class\":\"ddc-rating-summary\"}).span.b.string)\n",
    "                if rating < 5:\n",
    "                    sentiment = 'pos'\n",
    "                else:\n",
    "                    sentiment = 'neg'\n",
    "            else:\n",
    "                continue \n",
    "    \n",
    "            reviews.append(list([date, review_paragraph, sentiment]))\n",
    "            \n",
    "        # go to next page if not on the last page\n",
    "        if review_page_content.find_all(\"li\",class_='ddc-paging-item-next') is None:\n",
    "            isHaveNextPage=False\n",
    "        page += 1\n",
    "    print(\"Done with \", drug_name)\n",
    "    return reviews\n",
    "    \n",
    "\n",
    "if __name__ == \"__main__\":\n",
    "    reviews = main()\n",
    "    reviews.head()"
   ]
  },
  {
   "cell_type": "code",
   "execution_count": null,
   "id": "bf0d06ac",
   "metadata": {},
   "outputs": [],
   "source": []
  },
  {
   "cell_type": "code",
   "execution_count": null,
   "id": "d9646073",
   "metadata": {},
   "outputs": [],
   "source": []
  }
 ],
 "metadata": {
  "kernelspec": {
   "display_name": "Python 3 (ipykernel)",
   "language": "python",
   "name": "python3"
  },
  "language_info": {
   "codemirror_mode": {
    "name": "ipython",
    "version": 3
   },
   "file_extension": ".py",
   "mimetype": "text/x-python",
   "name": "python",
   "nbconvert_exporter": "python",
   "pygments_lexer": "ipython3",
   "version": "3.9.7"
  }
 },
 "nbformat": 4,
 "nbformat_minor": 5
}
